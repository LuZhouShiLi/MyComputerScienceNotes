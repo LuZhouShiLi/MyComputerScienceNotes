{
 "cells": [
  {
   "cell_type": "code",
   "execution_count": 1,
   "metadata": {},
   "outputs": [
    {
     "data": {
      "text/plain": [
       "'Jane Austen’s genius there was, though nothing mannish, much that was'"
      ]
     },
     "execution_count": 1,
     "metadata": {},
     "output_type": "execute_result"
    }
   ],
   "source": [
    "import torch\n",
    "\n",
    "with open('./1342-0.txt',encoding = 'utf8') as f:\n",
    "    text = f.read()\n",
    "\n",
    "lines = text.split('\\n')\n",
    "\n",
    "line = lines[200]\n",
    "\n",
    "line"
   ]
  },
  {
   "cell_type": "code",
   "execution_count": 2,
   "metadata": {},
   "outputs": [
    {
     "name": "stdout",
     "output_type": "stream",
     "text": [
      "torch.Size([69, 128])\n"
     ]
    }
   ],
   "source": [
    "## 请注意，letter_tensor每行将要表示一个独热编码字符。现在在每一行正确位置上设置成1，以使每一行代表正确的字符。设置1的索引对应于编码中字符的索引\n",
    "letter_tensor = torch.zeros(len(line),128)\n",
    "print(letter_tensor.shape)"
   ]
  },
  {
   "cell_type": "code",
   "execution_count": 5,
   "metadata": {},
   "outputs": [],
   "source": [
    "import imageio\n",
    "img_arr = imageio.imread('./bobby.jpg') \n",
    "img_arr.shape\n",
    "\n",
    "\n",
    "img = torch.from_numpy(img_arr)\n",
    "out = torch.transpose(img,0,2)  ## C H W\n",
    "\n",
    "## 创建一个包含100个图像的批次\n",
    "batch_size = 100\n",
    "batch = torch.zeros(100,3,256,256,dtype = torch.uint8)  # N  C H W\n"
   ]
  },
  {
   "cell_type": "code",
   "execution_count": null,
   "metadata": {},
   "outputs": [],
   "source": [
    "import os\n",
    "data_dir = \"./dlwpt-code/data/p1ch4/image-cats/\"\n",
    "\n",
    "filenames = [name for name in os.listdir(data_dir) if os.path.splitext(name) == '.png']  ## 保存文件名\n",
    "\n",
    "for i,filename in enumerate(filenames):\n",
    "    img_arr = imageio.imread(filename)\n",
    "    batch[i] = torch.transpose(torch.from_numpy(img_arr),0,2)"
   ]
  },
  {
   "cell_type": "code",
   "execution_count": 6,
   "metadata": {},
   "outputs": [
    {
     "ename": "RuntimeError",
     "evalue": "mean(): could not infer output dtype. Input dtype must be either a floating point or complex dtype. Got: Byte",
     "output_type": "error",
     "traceback": [
      "\u001b[1;31m---------------------------------------------------------------------------\u001b[0m",
      "\u001b[1;31mRuntimeError\u001b[0m                              Traceback (most recent call last)",
      "\u001b[1;32m<ipython-input-6-655c4b79adc6>\u001b[0m in \u001b[0;36m<module>\u001b[1;34m\u001b[0m\n\u001b[0;32m      4\u001b[0m \u001b[1;33m\u001b[0m\u001b[0m\n\u001b[0;32m      5\u001b[0m \u001b[1;32mfor\u001b[0m \u001b[0mc\u001b[0m \u001b[1;32min\u001b[0m \u001b[0mrange\u001b[0m\u001b[1;33m(\u001b[0m\u001b[0mn_channels\u001b[0m\u001b[1;33m)\u001b[0m\u001b[1;33m:\u001b[0m\u001b[1;33m\u001b[0m\u001b[1;33m\u001b[0m\u001b[0m\n\u001b[1;32m----> 6\u001b[1;33m     \u001b[0mmean\u001b[0m \u001b[1;33m=\u001b[0m \u001b[0mtorch\u001b[0m\u001b[1;33m.\u001b[0m\u001b[0mmean\u001b[0m\u001b[1;33m(\u001b[0m\u001b[0mbatch\u001b[0m\u001b[1;33m[\u001b[0m\u001b[1;33m:\u001b[0m\u001b[1;33m,\u001b[0m\u001b[0mc\u001b[0m\u001b[1;33m]\u001b[0m\u001b[1;33m)\u001b[0m  \u001b[1;31m## 对于该通道的所有行进行求均值\u001b[0m\u001b[1;33m\u001b[0m\u001b[1;33m\u001b[0m\u001b[0m\n\u001b[0m\u001b[0;32m      7\u001b[0m     \u001b[0mstd\u001b[0m \u001b[1;33m=\u001b[0m \u001b[0mtorch\u001b[0m\u001b[1;33m.\u001b[0m\u001b[0mstd\u001b[0m\u001b[1;33m(\u001b[0m\u001b[0mbatch\u001b[0m\u001b[1;33m[\u001b[0m\u001b[1;33m:\u001b[0m\u001b[1;33m,\u001b[0m\u001b[0mc\u001b[0m\u001b[1;33m]\u001b[0m\u001b[1;33m)\u001b[0m  \u001b[1;31m## 计算标准差\u001b[0m\u001b[1;33m\u001b[0m\u001b[1;33m\u001b[0m\u001b[0m\n\u001b[0;32m      8\u001b[0m     \u001b[0mbatch\u001b[0m\u001b[1;33m[\u001b[0m\u001b[1;33m:\u001b[0m\u001b[1;33m,\u001b[0m\u001b[0mc\u001b[0m\u001b[1;33m]\u001b[0m \u001b[1;33m=\u001b[0m \u001b[1;33m(\u001b[0m\u001b[0mbatch\u001b[0m\u001b[1;33m[\u001b[0m\u001b[1;33m:\u001b[0m\u001b[1;33m,\u001b[0m\u001b[0mc\u001b[0m\u001b[1;33m]\u001b[0m \u001b[1;33m-\u001b[0m \u001b[0mmean\u001b[0m\u001b[1;33m)\u001b[0m \u001b[1;33m/\u001b[0m \u001b[0mstd\u001b[0m  \u001b[1;31m## 对于该通道的每一个数据进行归一化\u001b[0m\u001b[1;33m\u001b[0m\u001b[1;33m\u001b[0m\u001b[0m\n",
      "\u001b[1;31mRuntimeError\u001b[0m: mean(): could not infer output dtype. Input dtype must be either a floating point or complex dtype. Got: Byte"
     ]
    }
   ],
   "source": [
    "# 计算输入数据的均值和标准偏差 进行缩放  以便于在每一个通道上的均值和单位标准差输出为0：\n",
    "\n",
    "n_channels = batch.shape[1]  ## 取出通道数\n",
    "\n",
    "for c in range(n_channels):\n",
    "    mean = torch.mean(batch[:,c])  ## 对于该通道的所有行进行求均值\n",
    "    std = torch.std(batch[:,c])  ## 计算标准差\n",
    "    batch[:,c] = (batch[:,c] - mean) / std  ## 对于该通道的每一个数据进行归一化"
   ]
  },
  {
   "cell_type": "code",
   "execution_count": 8,
   "metadata": {},
   "outputs": [
    {
     "name": "stdout",
     "output_type": "stream",
     "text": [
      "Reading DICOM (examining files): 1/99 files (1.0%99/99 files (100.0%)\n",
      "  Found 1 correct series.\n",
      "Reading DICOM (loading data): 72/99  (72.799/99  (100.0%)\n",
      "(99, 512, 512)\n",
      "torch.Size([1, 512, 512, 99])\n"
     ]
    }
   ],
   "source": [
    "import imageio\n",
    "\n",
    "dir_path = \"./dlwpt-code/data/p1ch4/volumetric-dicom/2-LUNG 3.0  B70f-04083\"\n",
    "vol_arr = imageio.volread(dir_path,'DICOM')  ## 加载医学图像\n",
    "\n",
    "print(vol_arr.shape)\n",
    "\n",
    "vol = torch.from_numpy(vol_arr).float()  ## 转换成float张量\n",
    "vol = torch.transpose(vol,0,2)\n",
    "vol = torch.unsqueeze(vol,0)  ## 插入一个新的维度\n",
    "print(vol.shape)   # C H W D"
   ]
  }
 ],
 "metadata": {
  "kernelspec": {
   "display_name": "Python 3.7.4 ('base')",
   "language": "python",
   "name": "python3"
  },
  "language_info": {
   "codemirror_mode": {
    "name": "ipython",
    "version": 3
   },
   "file_extension": ".py",
   "mimetype": "text/x-python",
   "name": "python",
   "nbconvert_exporter": "python",
   "pygments_lexer": "ipython3",
   "version": "3.7.4"
  },
  "orig_nbformat": 4,
  "vscode": {
   "interpreter": {
    "hash": "815a89dea800023498108851e18adb7e68d118d9669d858f2aeb2020be76da9d"
   }
  }
 },
 "nbformat": 4,
 "nbformat_minor": 2
}
