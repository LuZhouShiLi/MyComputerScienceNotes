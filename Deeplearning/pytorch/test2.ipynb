{
 "cells": [
  {
   "cell_type": "code",
   "execution_count": 17,
   "metadata": {},
   "outputs": [
    {
     "data": {
      "text/plain": [
       "array([[ 7.  ,  0.27,  0.36, ...,  0.45,  8.8 ,  6.  ],\n",
       "       [ 6.3 ,  0.3 ,  0.34, ...,  0.49,  9.5 ,  6.  ],\n",
       "       [ 8.1 ,  0.28,  0.4 , ...,  0.44, 10.1 ,  6.  ],\n",
       "       ...,\n",
       "       [ 6.5 ,  0.24,  0.19, ...,  0.46,  9.4 ,  6.  ],\n",
       "       [ 5.5 ,  0.29,  0.3 , ...,  0.38, 12.8 ,  7.  ],\n",
       "       [ 6.  ,  0.21,  0.38, ...,  0.32, 11.8 ,  6.  ]], dtype=float32)"
      ]
     },
     "execution_count": 17,
     "metadata": {},
     "output_type": "execute_result"
    }
   ],
   "source": [
    "import csv\n",
    "import numpy as np\n",
    "\n",
    "wine_path = \"./winequality-white.csv\" ## 数据集的路径\n",
    "\n",
    "## delimiter 表示数据之间的分隔符\n",
    "## 在这里指定二维数组的类型 和用于分割每一行各个值的分隔符  并且skiprows表示不读取第一行（列名）\n",
    "wineq_numpy = np.loadtxt(wine_path,dtype = np.float32,delimiter=\";\",skiprows=1)  ## 加载数据 转换为numpy张量\n",
    "\n",
    "wineq_numpy"
   ]
  },
  {
   "cell_type": "code",
   "execution_count": 18,
   "metadata": {},
   "outputs": [
    {
     "name": "stdout",
     "output_type": "stream",
     "text": [
      "(4898, 12)\n"
     ]
    },
    {
     "data": {
      "text/plain": [
       "['fixed acidity',\n",
       " 'volatile acidity',\n",
       " 'citric acid',\n",
       " 'residual sugar',\n",
       " 'chlorides',\n",
       " 'free sulfur dioxide',\n",
       " 'total sulfur dioxide',\n",
       " 'density',\n",
       " 'pH',\n",
       " 'sulphates',\n",
       " 'alcohol',\n",
       " 'quality']"
      ]
     },
     "execution_count": 18,
     "metadata": {},
     "output_type": "execute_result"
    }
   ],
   "source": [
    "## csv.reader返回一个reader对象，使用该对象遍历csv文件中的行  next返回迭代器中的下一个项目\n",
    "col_list = next(csv.reader(open(wine_path),delimiter=';'))  ## 这里读取的是第一行\n",
    "print(wineq_numpy.shape)  ## 打印形状 二维 \n",
    "col_list  ## 输出第一行 所有列名"
   ]
  },
  {
   "cell_type": "code",
   "execution_count": 19,
   "metadata": {},
   "outputs": [
    {
     "data": {
      "text/plain": [
       "(torch.Size([4898, 12]), 'torch.FloatTensor')"
      ]
     },
     "execution_count": 19,
     "metadata": {},
     "output_type": "execute_result"
    }
   ],
   "source": [
    "## 将numpy数组转换成张量\n",
    "import torch\n",
    "wineq = torch.from_numpy(wineq_numpy)  \n",
    "wineq.shape,wineq.type()  ## 这里的shape 也是一个张量形式"
   ]
  },
  {
   "cell_type": "code",
   "execution_count": 20,
   "metadata": {},
   "outputs": [
    {
     "name": "stdout",
     "output_type": "stream",
     "text": [
      "tensor([[ 7.0000,  0.2700,  0.3600,  ...,  3.0000,  0.4500,  8.8000],\n",
      "        [ 6.3000,  0.3000,  0.3400,  ...,  3.3000,  0.4900,  9.5000],\n",
      "        [ 8.1000,  0.2800,  0.4000,  ...,  3.2600,  0.4400, 10.1000],\n",
      "        ...,\n",
      "        [ 6.5000,  0.2400,  0.1900,  ...,  2.9900,  0.4600,  9.4000],\n",
      "        [ 5.5000,  0.2900,  0.3000,  ...,  3.3400,  0.3800, 12.8000],\n",
      "        [ 6.0000,  0.2100,  0.3800,  ...,  3.2600,  0.3200, 11.8000]])\n",
      "torch.Size([4898, 11])\n"
     ]
    }
   ],
   "source": [
    "data = wineq[:,:-1]  ## 除去最后一列之外的所有列  所有行\n",
    "print(data)\n",
    "print(data.shape)"
   ]
  },
  {
   "cell_type": "code",
   "execution_count": 21,
   "metadata": {},
   "outputs": [
    {
     "name": "stdout",
     "output_type": "stream",
     "text": [
      "tensor([6., 6., 6.,  ..., 6., 7., 6.])\n",
      "torch.Size([4898])\n"
     ]
    }
   ],
   "source": [
    "target = wineq[:,-1]  ## 保存分数一列\n",
    "print(target)   ## 一维张量\n",
    "print(target.shape)"
   ]
  },
  {
   "cell_type": "code",
   "execution_count": 22,
   "metadata": {},
   "outputs": [
    {
     "name": "stdout",
     "output_type": "stream",
     "text": [
      "tensor([6, 6, 6,  ..., 6, 7, 6])\n"
     ]
    }
   ],
   "source": [
    "## 将target 转换成标签张量  \n",
    "\n",
    "## 第一种选择将标签看成整数向量\n",
    "\n",
    "target = wineq[:,-1].long()\n",
    "print(target)"
   ]
  },
  {
   "cell_type": "code",
   "execution_count": 23,
   "metadata": {},
   "outputs": [
    {
     "name": "stdout",
     "output_type": "stream",
     "text": [
      "tensor([[0., 0., 0.,  ..., 0., 0., 0.],\n",
      "        [0., 0., 0.,  ..., 0., 0., 0.],\n",
      "        [0., 0., 0.,  ..., 0., 0., 0.],\n",
      "        ...,\n",
      "        [0., 0., 0.,  ..., 0., 0., 0.],\n",
      "        [0., 0., 0.,  ..., 1., 0., 0.],\n",
      "        [0., 0., 0.,  ..., 0., 0., 0.]])\n"
     ]
    }
   ],
   "source": [
    "## 独热编码\n",
    "target_onehot = torch.zeros(target.shape[0],10)  ## 创建新的张量 全为0 一共有十列\n",
    "\n",
    "## pytorch中 带有下划线结尾的方法 不会返回新的张量\n",
    "\n",
    "## scatter_参数\n",
    "## 指定后面两个参数要处理的维度   每一行\n",
    "## 列张量 指示要填充的索引\n",
    "## 包含要填充元素的张量或者单个标量（1.0）\n",
    "\n",
    "## 索引张量  必须要有和待填充张量相同的维数  unsqueeze(1) 插入新的一维\n",
    "target_onehot.scatter_(1,target.unsqueeze(1),1.0)\n",
    "print(target_onehot)\n",
    "\n",
    "## 对于每一行 获取目标标签的索引 并将其用作列索引以设置值1.0"
   ]
  },
  {
   "cell_type": "code",
   "execution_count": 24,
   "metadata": {},
   "outputs": [
    {
     "name": "stdout",
     "output_type": "stream",
     "text": [
      "tensor([6.8548e+00, 2.7824e-01, 3.3419e-01, 6.3914e+00, 4.5772e-02, 3.5308e+01,\n",
      "        1.3836e+02, 9.9403e-01, 3.1883e+00, 4.8985e-01, 1.0514e+01])\n"
     ]
    }
   ],
   "source": [
    "## 计算样本的均值  计算每一列的均值和标准差：\n",
    "data_mean = torch.mean(data,dim = 0)\n",
    "print(data_mean)## 十一列  张量\n"
   ]
  },
  {
   "cell_type": "code",
   "execution_count": 25,
   "metadata": {},
   "outputs": [
    {
     "name": "stdout",
     "output_type": "stream",
     "text": [
      "tensor([7.1211e-01, 1.0160e-02, 1.4646e-02, 2.5726e+01, 4.7733e-04, 2.8924e+02,\n",
      "        1.8061e+03, 8.9455e-06, 2.2801e-02, 1.3025e-02, 1.5144e+00])\n"
     ]
    }
   ],
   "source": [
    "data_var = torch.var(data,dim = 0) ## 计算每一列的方差\n",
    "print(data_var)"
   ]
  },
  {
   "cell_type": "code",
   "execution_count": 27,
   "metadata": {},
   "outputs": [
    {
     "data": {
      "text/plain": [
       "tensor([[ 1.7208e-01, -8.1761e-02,  2.1326e-01,  ..., -1.2468e+00,\n",
       "         -3.4915e-01, -1.3930e+00],\n",
       "        [-6.5743e-01,  2.1587e-01,  4.7996e-02,  ...,  7.3995e-01,\n",
       "          1.3422e-03, -8.2419e-01],\n",
       "        [ 1.4756e+00,  1.7450e-02,  5.4378e-01,  ...,  4.7505e-01,\n",
       "         -4.3677e-01, -3.3663e-01],\n",
       "        ...,\n",
       "        [-4.2043e-01, -3.7940e-01, -1.1915e+00,  ..., -1.3130e+00,\n",
       "         -2.6153e-01, -9.0545e-01],\n",
       "        [-1.6054e+00,  1.1666e-01, -2.8253e-01,  ...,  1.0049e+00,\n",
       "         -9.6251e-01,  1.8574e+00],\n",
       "        [-1.0129e+00, -6.7703e-01,  3.7852e-01,  ...,  4.7505e-01,\n",
       "         -1.4882e+00,  1.0448e+00]])"
      ]
     },
     "execution_count": 27,
     "metadata": {},
     "output_type": "execute_result"
    }
   ],
   "source": [
    "## dim = 0 表示沿着维数0进行计算  通过减去平均值并且除以标准差来对数据进行归一化  归一化有助于神经网络的学习过程\n",
    "data_normalized = (data - data_mean) / torch.sqrt(data_var)\n",
    "data_normalized"
   ]
  },
  {
   "cell_type": "code",
   "execution_count": 28,
   "metadata": {},
   "outputs": [
    {
     "name": "stdout",
     "output_type": "stream",
     "text": [
      "torch.Size([4898])\n",
      "torch.bool\n",
      "tensor(20)\n"
     ]
    }
   ],
   "source": [
    "## torch.le 函数确定target中哪些行对应的分数小于或者等于3\n",
    "bad_indexes = torch.le(target,3)  ## 小于或者等于3 的被标记成1 其余的是0\n",
    "print(bad_indexes.shape)\n",
    "print(bad_indexes.dtype)\n",
    "print(bad_indexes.sum())"
   ]
  },
  {
   "cell_type": "code",
   "execution_count": 30,
   "metadata": {},
   "outputs": [
    {
     "name": "stdout",
     "output_type": "stream",
     "text": [
      "torch.Size([20, 11])\n"
     ]
    }
   ],
   "source": [
    "## 通过使用pytorch中的高级索引功能，可以使用0/1张量来索引数据张量 \n",
    "## 此张量本质上将数据筛选为仅为索引张量中1对应的元素或者行\n",
    "bad_data = data[bad_indexes]\n",
    "print(bad_data.shape)  ## 将bad_indexes作为索引张量 筛选出对应的行 列数保持不变\n"
   ]
  },
  {
   "cell_type": "code",
   "execution_count": 32,
   "metadata": {},
   "outputs": [
    {
     "name": "stdout",
     "output_type": "stream",
     "text": [
      " 0 fixed acidity          7.60   6.89   6.73\n",
      " 1 volatile acidity       0.33   0.28   0.27\n",
      " 2 citric acid            0.34   0.34   0.33\n",
      " 3 residual sugar         6.39   6.71   5.26\n",
      " 4 chlorides              0.05   0.05   0.04\n",
      " 5 free sulfur dioxide   53.33  35.42  34.55\n",
      " 6 total sulfur dioxide 170.60 141.83 125.25\n",
      " 7 density                0.99   0.99   0.99\n",
      " 8 pH                     3.19   3.18   3.22\n",
      " 9 sulphates              0.47   0.49   0.50\n",
      "10 alcohol               10.34  10.26  11.42\n"
     ]
    }
   ],
   "source": [
    "## 将data分成 好 中 坏三类葡萄酒信息\n",
    "## 对每一列取均值\n",
    "bad_data = data[torch.le(target,3)]  ## 先用le 筛选出符合条件的索引张量 然后取出对应的行\n",
    "mid_data = data[torch.gt(target,3) & torch.lt(target,7)] \n",
    "good_data = data[torch.ge(target,7)] ## 筛选出好的数据\n",
    "\n",
    "## 计算好 中 坏 每一列的均值\n",
    "bad_mean = torch.mean(bad_data,dim=0)\n",
    "mid_mean = torch.mean(mid_data,dim=0)\n",
    "good_mean = torch.mean(good_data,dim = 0)\n",
    "\n",
    "## zip将这些打印的参数全部封装到args中 然后使用*args进行取出\n",
    "for i,args in enumerate(zip(col_list,bad_mean,mid_mean,good_mean)):\n",
    "    print('{:2} {:20} {:6.2f} {:6.2f} {:6.2f}'.format(i,*args))  ## 打印"
   ]
  },
  {
   "cell_type": "code",
   "execution_count": 36,
   "metadata": {},
   "outputs": [
    {
     "name": "stdout",
     "output_type": "stream",
     "text": [
      "tensor([170., 132.,  97.,  ..., 111., 110.,  98.])\n",
      "torch.Size([4898])\n",
      "torch.bool\n",
      "tensor(2727)\n"
     ]
    }
   ],
   "source": [
    "## 将二氧化硫的含量作为区分好酒还是坏酒的标准  取出低于标准值的全部索引\n",
    "total_sulfur_threshold = 141.83\n",
    "total_sulfur_data = data[:,6] ## 取出所有数据的所有行 第7列\n",
    "print(total_sulfur_data)\n",
    "predicted_indexes = torch.lt(total_sulfur_data,total_sulfur_threshold)\n",
    "print(predicted_indexes.shape)\n",
    "print(predicted_indexes.dtype)\n",
    "print(predicted_indexes.sum())"
   ]
  },
  {
   "cell_type": "code",
   "execution_count": 37,
   "metadata": {},
   "outputs": [
    {
     "name": "stdout",
     "output_type": "stream",
     "text": [
      "torch.Size([4898])\n",
      "torch.bool\n",
      "tensor(3258)\n"
     ]
    }
   ],
   "source": [
    "## 获取实际优质葡萄酒的索引\n",
    "actual_indexes = torch.gt(target,5)\n",
    "print(actual_indexes.shape)\n",
    "print(actual_indexes.dtype)\n",
    "print(actual_indexes.sum())"
   ]
  },
  {
   "cell_type": "code",
   "execution_count": 38,
   "metadata": {},
   "outputs": [
    {
     "name": "stdout",
     "output_type": "stream",
     "text": [
      "2018\n",
      "0.74000733406674\n",
      "0.6193984039287906\n"
     ]
    }
   ],
   "source": [
    "n_matches = torch.sum(actual_indexes & predicted_indexes).item()\n",
    "n_predicted = torch.sum(predicted_indexes).item()\n",
    "n_actual = torch.sum(actual_indexes).item()\n",
    "\n",
    "print(n_matches)\n",
    "print(n_matches / n_predicted)\n",
    "print(n_matches / n_actual)"
   ]
  }
 ],
 "metadata": {
  "kernelspec": {
   "display_name": "Python 3.7.4 ('base')",
   "language": "python",
   "name": "python3"
  },
  "language_info": {
   "codemirror_mode": {
    "name": "ipython",
    "version": 3
   },
   "file_extension": ".py",
   "mimetype": "text/x-python",
   "name": "python",
   "nbconvert_exporter": "python",
   "pygments_lexer": "ipython3",
   "version": "3.7.4"
  },
  "orig_nbformat": 4,
  "vscode": {
   "interpreter": {
    "hash": "815a89dea800023498108851e18adb7e68d118d9669d858f2aeb2020be76da9d"
   }
  }
 },
 "nbformat": 4,
 "nbformat_minor": 2
}
