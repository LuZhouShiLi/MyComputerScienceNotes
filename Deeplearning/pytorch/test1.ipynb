{
 "cells": [
  {
   "cell_type": "code",
   "execution_count": 28,
   "metadata": {},
   "outputs": [
    {
     "data": {
      "text/plain": [
       "tensor([1., 1., 1.])"
      ]
     },
     "execution_count": 28,
     "metadata": {},
     "output_type": "execute_result"
    }
   ],
   "source": [
    "import torch\n",
    "\n",
    "a = torch.ones(3)\n",
    "a"
   ]
  },
  {
   "cell_type": "code",
   "execution_count": 29,
   "metadata": {},
   "outputs": [
    {
     "data": {
      "text/plain": [
       "tensor(1.)"
      ]
     },
     "execution_count": 29,
     "metadata": {},
     "output_type": "execute_result"
    }
   ],
   "source": [
    "a[1]"
   ]
  },
  {
   "cell_type": "code",
   "execution_count": 30,
   "metadata": {},
   "outputs": [
    {
     "data": {
      "text/plain": [
       "tensor([ 1.,  1., 10.])"
      ]
     },
     "execution_count": 30,
     "metadata": {},
     "output_type": "execute_result"
    }
   ],
   "source": [
    "a[2] = 10.0\n",
    "a"
   ]
  },
  {
   "cell_type": "code",
   "execution_count": 31,
   "metadata": {},
   "outputs": [
    {
     "data": {
      "text/plain": [
       "tensor([4., 1., 2., 3., 4., 5.])"
      ]
     },
     "execution_count": 31,
     "metadata": {},
     "output_type": "execute_result"
    }
   ],
   "source": [
    "points = torch.zeros(6)\n",
    "points[0] = 4\n",
    "points[1] = 1.0\n",
    "points[2] = 2.0\n",
    "points[3] = 3.0\n",
    "points[4] = 4.0\n",
    "points[5] = 5.0\n",
    "\n",
    "points"
   ]
  },
  {
   "cell_type": "code",
   "execution_count": 32,
   "metadata": {},
   "outputs": [
    {
     "data": {
      "text/plain": [
       "tensor([1, 4])"
      ]
     },
     "execution_count": 32,
     "metadata": {},
     "output_type": "execute_result"
    }
   ],
   "source": [
    "float(points[0])\n",
    "\n",
    "p = torch.tensor([[1.0,5.0],[2.0,7],[3,2]])\n",
    "p\n",
    "\n",
    "p.shape\n",
    "\n",
    "\n",
    "\n",
    "p1 = torch.zeros(3,2)\n",
    "p1\n",
    "\n",
    "p2 =torch.tensor([[1,4],[4,5],[6,3]])\n",
    "p2\n",
    "\n",
    "p2[0,1]\n",
    "\n",
    "\n",
    "p2[0]"
   ]
  },
  {
   "cell_type": "code",
   "execution_count": null,
   "metadata": {},
   "outputs": [],
   "source": []
  },
  {
   "cell_type": "code",
   "execution_count": 33,
   "metadata": {},
   "outputs": [
    {
     "name": "stdout",
     "output_type": "stream",
     "text": [
      "tensor([[4, 5],\n",
      "        [6, 3]])\n",
      "tensor([[4, 5],\n",
      "        [6, 3]])\n",
      "tensor([4, 6])\n",
      "tensor([[[1, 4],\n",
      "         [4, 5],\n",
      "         [6, 3]]])\n"
     ]
    }
   ],
   "source": [
    "# 索引张量\n",
    "print(p2[1:])  ## 输出第一行之后的所有行\n",
    "print(p2[1:,:]) # 输出第一行之后的所有行所有列\n",
    "print(p2[1:,0])  ## 输出第一行之后的所有行 第一列\n",
    "print(p2[None])  ## 增加大小为1的维度"
   ]
  },
  {
   "cell_type": "code",
   "execution_count": 34,
   "metadata": {},
   "outputs": [],
   "source": [
    "img_t = torch.randn(3,5,5) ## shape channels rows columns\n",
    "weights = torch.tensor([0.21212,0.34231,0.01919])\n",
    "\n",
    "batch_t = torch.randn(2,3,5,5)\n",
    "\n"
   ]
  },
  {
   "cell_type": "code",
   "execution_count": 35,
   "metadata": {},
   "outputs": [
    {
     "name": "stdout",
     "output_type": "stream",
     "text": [
      "tensor([[1., 1.],\n",
      "        [1., 1.],\n",
      "        [1., 1.],\n",
      "        [1., 1.],\n",
      "        [1., 1.],\n",
      "        [1., 1.],\n",
      "        [1., 1.],\n",
      "        [1., 1.],\n",
      "        [1., 1.],\n",
      "        [1., 1.]], dtype=torch.float64)\n"
     ]
    }
   ],
   "source": [
    "double_points = torch.ones(10,2,dtype = torch.double)\n",
    "short_points = torch.tensor([[1,2],[3,4]],dtype=torch.float)\n",
    "\n",
    "\n",
    "short_points.dtype\n",
    "print(double_points)\n"
   ]
  },
  {
   "cell_type": "code",
   "execution_count": 36,
   "metadata": {},
   "outputs": [
    {
     "data": {
      "text/plain": [
       "tensor([[1., 1.],\n",
       "        [1., 1.],\n",
       "        [1., 1.],\n",
       "        [1., 1.],\n",
       "        [1., 1.],\n",
       "        [1., 1.],\n",
       "        [1., 1.],\n",
       "        [1., 1.],\n",
       "        [1., 1.],\n",
       "        [1., 1.]], dtype=torch.float64)"
      ]
     },
     "execution_count": 36,
     "metadata": {},
     "output_type": "execute_result"
    }
   ],
   "source": [
    "double_points = torch.zeros(10,2).double()\n",
    "short_points = torch.ones(11,2).int()\n",
    "\n",
    "\n",
    "double_points = torch.ones(10,2).to(torch.double)  \n",
    "double_points"
   ]
  },
  {
   "cell_type": "code",
   "execution_count": 37,
   "metadata": {},
   "outputs": [
    {
     "data": {
      "text/plain": [
       "tensor([0.3705, 0.0240, 0.4585, 0.8253, 0.8338], dtype=torch.float64)"
      ]
     },
     "execution_count": 37,
     "metadata": {},
     "output_type": "execute_result"
    }
   ],
   "source": [
    "a = torch.ones(3,2)\n",
    "a_t = torch.transpose(a,0,1)\n",
    "a_t\n",
    "\n",
    "b = torch.rand(5,dtype=torch.double)  ## 生成随机数\n",
    "b\n",
    "\n",
    "\n"
   ]
  },
  {
   "cell_type": "code",
   "execution_count": 38,
   "metadata": {},
   "outputs": [
    {
     "data": {
      "text/plain": [
       "tensor([100.,   1.,   2.,   3.,   4.,   5.])"
      ]
     },
     "execution_count": 38,
     "metadata": {},
     "output_type": "execute_result"
    }
   ],
   "source": [
    "s = points.storage()  ## 查看张量存储 本质上还是一维数组\n",
    "s[0] = 100\n",
    "points"
   ]
  },
  {
   "cell_type": "code",
   "execution_count": 39,
   "metadata": {},
   "outputs": [
    {
     "data": {
      "text/plain": [
       "torch.Size([2])"
      ]
     },
     "execution_count": 39,
     "metadata": {},
     "output_type": "execute_result"
    }
   ],
   "source": [
    "points = torch.tensor([[4,3],[31,1],[111,1221]])\n",
    "second = points[1]\n",
    "second.storage_offset()\n",
    "\n",
    "\n",
    "second.size()\n",
    "\n"
   ]
  },
  {
   "cell_type": "code",
   "execution_count": null,
   "metadata": {},
   "outputs": [],
   "source": []
  },
  {
   "cell_type": "code",
   "execution_count": 40,
   "metadata": {},
   "outputs": [
    {
     "data": {
      "text/plain": [
       "(2, 1)"
      ]
     },
     "execution_count": 40,
     "metadata": {},
     "output_type": "execute_result"
    }
   ],
   "source": [
    "second.shape\n",
    "\n",
    "points.stride()"
   ]
  },
  {
   "cell_type": "code",
   "execution_count": 41,
   "metadata": {},
   "outputs": [
    {
     "name": "stdout",
     "output_type": "stream",
     "text": [
      "False\n",
      "(20, 5, 1)\n",
      "(1, 5, 20)\n"
     ]
    }
   ],
   "source": [
    "points\n",
    "\n",
    "## 取出子张量\n",
    "second_point = points[1]  ## 得到的结果仍然是一个张量\n",
    "second_point[0] = 10  ## 更改子张量的第一个元素\n",
    "points\n",
    "\n",
    "\n",
    "## 克隆一个张量\n",
    "s_point = points[1].clone()\n",
    "s_point[0] = 10111\n",
    "points\n",
    "\n",
    "\n",
    "## 张量的转置\n",
    "points_t = points.t()\n",
    "points_t\n",
    "\n",
    "print(id(points_t.storage()) == id(points.storage()))\n",
    "\n",
    "## 转换张量的形状\n",
    "some_t = torch.ones(3,4,5)\n",
    "transpose_t = some_t.transpose(0,2)  ## 转换两个维度\n",
    "\n",
    "some_t.shape  ## 打印形状\n",
    "\n",
    "transpose_t.shape\n",
    "\n",
    "print(some_t.stride()) ## 计算步长\n",
    "\n",
    "print(transpose_t.stride())  ## 计算步长"
   ]
  },
  {
   "cell_type": "code",
   "execution_count": 42,
   "metadata": {},
   "outputs": [
    {
     "name": "stdout",
     "output_type": "stream",
     "text": [
      "True\n",
      "False\n"
     ]
    }
   ],
   "source": [
    "## 连续张量\n",
    "print(points.is_contiguous())  ## 连续张量\n",
    "print(points_t.is_contiguous())  ## 转置张量不是连续张量\n",
    "\n"
   ]
  },
  {
   "cell_type": "code",
   "execution_count": 43,
   "metadata": {},
   "outputs": [
    {
     "data": {
      "text/plain": [
       "tensor([[4, 2, 6],\n",
       "        [1, 3, 7]])"
      ]
     },
     "execution_count": 43,
     "metadata": {},
     "output_type": "execute_result"
    }
   ],
   "source": [
    "points = torch.tensor([[4,1],[2,3],[6,7]])\n",
    "\n",
    "## 将矩阵进行转置\n",
    "points_t = points.t()\n",
    "\n",
    "points_t  ## 转置的张量是不连续的\n",
    "\n",
    "## 查看转置的张量的内存\n",
    "points_t.storage()\n",
    "\n",
    "# 查看转置张量的步长\n",
    "points_t.stride()\n",
    "\n",
    "\n",
    "## 将转置张量转换为连续张量\n",
    "pp = points_t.contiguous()\n",
    "pp"
   ]
  },
  {
   "cell_type": "code",
   "execution_count": 44,
   "metadata": {},
   "outputs": [
    {
     "data": {
      "text/plain": [
       " 4\n",
       " 2\n",
       " 6\n",
       " 1\n",
       " 3\n",
       " 7\n",
       "[torch.storage._TypedStorage(dtype=torch.int64, device=cpu) of size 6]"
      ]
     },
     "execution_count": 44,
     "metadata": {},
     "output_type": "execute_result"
    }
   ],
   "source": [
    "pp.storage()  ## 打印内存 是连续的张量\n"
   ]
  },
  {
   "cell_type": "code",
   "execution_count": 45,
   "metadata": {},
   "outputs": [
    {
     "data": {
      "text/plain": [
       "(3, 1)"
      ]
     },
     "execution_count": 45,
     "metadata": {},
     "output_type": "execute_result"
    }
   ],
   "source": [
    "pp.stride()"
   ]
  },
  {
   "cell_type": "code",
   "execution_count": 46,
   "metadata": {},
   "outputs": [],
   "source": [
    "## 在GPU上创建一个张量\n",
    "points_gpu = torch.tensor([[1.0,4.0],[2.0,1.0],[3.0,4.0]],device='cuda')"
   ]
  },
  {
   "cell_type": "code",
   "execution_count": 47,
   "metadata": {},
   "outputs": [
    {
     "data": {
      "text/plain": [
       "tensor([[4, 1],\n",
       "        [2, 3],\n",
       "        [6, 7]])"
      ]
     },
     "execution_count": 47,
     "metadata": {},
     "output_type": "execute_result"
    }
   ],
   "source": [
    "points_gpu = points.to(device = 'cuda')\n",
    "\n",
    "## 将张量转回cpu\n",
    "points_cpu = points_gpu.cpu()\n",
    "points_cpu"
   ]
  },
  {
   "cell_type": "code",
   "execution_count": 48,
   "metadata": {},
   "outputs": [
    {
     "data": {
      "text/plain": [
       "array([[1., 1., 1., 1.],\n",
       "       [1., 1., 1., 1.],\n",
       "       [1., 1., 1., 1.]], dtype=float32)"
      ]
     },
     "execution_count": 48,
     "metadata": {},
     "output_type": "execute_result"
    }
   ],
   "source": [
    "points = torch.ones(3,4)\n",
    "points_np  = points.numpy()  ## 张量转换为numpy数组\n",
    "points_np"
   ]
  },
  {
   "cell_type": "code",
   "execution_count": 50,
   "metadata": {},
   "outputs": [
    {
     "data": {
      "text/plain": [
       "tensor([[1., 1., 1., 1.],\n",
       "        [1., 1., 1., 1.],\n",
       "        [1., 1., 1., 1.]])"
      ]
     },
     "execution_count": 50,
     "metadata": {},
     "output_type": "execute_result"
    }
   ],
   "source": [
    "# 将numpy数组转换为张量\n",
    "points = torch.from_numpy(points_np)\n",
    "points"
   ]
  },
  {
   "cell_type": "code",
   "execution_count": null,
   "metadata": {},
   "outputs": [],
   "source": [
    "## 序列化张量\n",
    "## 使用文件描述符代替文件名\n",
    "\n",
    "\n",
    "## 保存张量\n",
    "with open('./dlwpt-code/data/p1ch3/ourpoints.t','wb') as f:\n",
    "    torch.save(points,f)\n",
    "\n",
    "## 加载张量\n",
    "with open('./dlwpt-code/data/p1ch3/ourpoints.t','rb') as f:\n",
    "    points = torch.load(f)"
   ]
  }
 ],
 "metadata": {
  "kernelspec": {
   "display_name": "Python 3.7.4 ('base')",
   "language": "python",
   "name": "python3"
  },
  "language_info": {
   "codemirror_mode": {
    "name": "ipython",
    "version": 3
   },
   "file_extension": ".py",
   "mimetype": "text/x-python",
   "name": "python",
   "nbconvert_exporter": "python",
   "pygments_lexer": "ipython3",
   "version": "3.7.4"
  },
  "orig_nbformat": 4,
  "vscode": {
   "interpreter": {
    "hash": "815a89dea800023498108851e18adb7e68d118d9669d858f2aeb2020be76da9d"
   }
  }
 },
 "nbformat": 4,
 "nbformat_minor": 2
}
